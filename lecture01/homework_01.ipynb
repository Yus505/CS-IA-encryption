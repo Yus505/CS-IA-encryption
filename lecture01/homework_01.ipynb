{
  "cells": [
    {
      "cell_type": "markdown",
      "metadata": {
        "id": "W--a19oOUZkY"
      },
      "source": [
        "(lecture01:homework1)=\n",
        "# Homework 1\n",
        "\n",
        "+ Type your name and email in the \"Student details\" section below.\n",
        "+ Develop the code and generate the figures you need to solve the problems using this notebook.\n",
        "+ For the answers that require a mathematical proof or derivation you can either:\n",
        "    \n",
        "    - Type the answer using the built-in latex capabilities. In this case, simply export the notebook as a pdf and upload it on gradescope; or\n",
        "    - You can print the notebook (after you are done with all the code), write your answers by hand, scan, turn your response to a single pdf, and upload on gradescope.\n",
        "\n",
        "+ The total homework points are 100. Please note that the problems are not weighed equally.\n",
        "\n",
        "```{note}\n",
        "+ This is due before the beginning of the next lecture.\n",
        "+ Please match all the pages corresponding to each of the questions when you submit on gradescope.\n",
        "```"
      ]
    },
    {
      "cell_type": "markdown",
      "metadata": {
        "id": "2el2OJEUUZkd"
      },
      "source": [
        "## Student details\n",
        "\n",
        "+ **First Name: Yusif**\n",
        "+ **Last Name: Shukurlu**\n",
        "+ **Email: yshukurl@purdue.edu**"
      ]
    },
    {
      "cell_type": "markdown",
      "metadata": {
        "id": "vRpRn5s5UZke"
      },
      "source": [
        "## Problem 1 - Python as a calculator\n",
        "\n",
        "Use Python to evaluate the following expression:\n",
        "$$\n",
        "\\frac{\\sin(\\pi/3)e^{-2}}{23^2}.\n",
        "$$"
      ]
    },
    {
      "cell_type": "code",
      "execution_count": null,
      "metadata": {
        "id": "InVKcbM7UZkf"
      },
      "outputs": [],
      "source": [
        "# Your code here"
      ]
    },
    {
      "cell_type": "markdown",
      "metadata": {
        "id": "D7Oo7q-WUZkg"
      },
      "source": [
        "## Problem 2 - Python types\n",
        "\n",
        "Find the type of the following Python variables.\n",
        "You may use Python's capabilities to find the type. You don't have to guess it."
      ]
    },
    {
      "cell_type": "code",
      "execution_count": null,
      "metadata": {
        "id": "2_RK4rtHUZkh"
      },
      "outputs": [],
      "source": [
        "x = 4"
      ]
    },
    {
      "cell_type": "code",
      "execution_count": null,
      "metadata": {
        "id": "mnIB2YDBUZki"
      },
      "outputs": [],
      "source": [
        "y = 23.5"
      ]
    },
    {
      "cell_type": "code",
      "execution_count": null,
      "metadata": {
        "id": "cU7UoA0WUZki"
      },
      "outputs": [],
      "source": [
        "z = 4 / 3.1"
      ]
    },
    {
      "cell_type": "code",
      "execution_count": null,
      "metadata": {
        "id": "jRAr54qyUZkj"
      },
      "outputs": [],
      "source": [
        "a = (1, 2, 4)"
      ]
    },
    {
      "cell_type": "code",
      "execution_count": null,
      "metadata": {
        "id": "wWq0fTiXUZkk"
      },
      "outputs": [],
      "source": [
        "b = [3, 4, 6]"
      ]
    },
    {
      "cell_type": "code",
      "execution_count": null,
      "metadata": {
        "id": "7AB0huT7UZkk"
      },
      "outputs": [],
      "source": [
        "c = x > 2"
      ]
    },
    {
      "cell_type": "code",
      "execution_count": null,
      "metadata": {
        "id": "ic_B4KDyUZkk"
      },
      "outputs": [],
      "source": [
        "d = 'Hello there!'"
      ]
    },
    {
      "cell_type": "code",
      "execution_count": null,
      "metadata": {
        "id": "SWSGmFHsUZkl"
      },
      "outputs": [],
      "source": [
        "e = {'Name': 'Ilias Bilionis',\n",
        "     'Phone number': 2106012119,\n",
        "     'Zip code': 47906}"
      ]
    },
    {
      "cell_type": "code",
      "execution_count": null,
      "metadata": {
        "id": "c214W3oOUZkl"
      },
      "outputs": [],
      "source": [
        "import numpy as np\n",
        "f = np.zeros((10, 4))"
      ]
    }
  ],
  "metadata": {
    "kernelspec": {
      "display_name": "Python 3",
      "language": "python",
      "name": "python3"
    },
    "language_info": {
      "codemirror_mode": {
        "name": "ipython",
        "version": 3
      },
      "file_extension": ".py",
      "mimetype": "text/x-python",
      "name": "python",
      "nbconvert_exporter": "python",
      "pygments_lexer": "ipython3",
      "version": "3.8.8"
    },
    "colab": {
      "provenance": []
    }
  },
  "nbformat": 4,
  "nbformat_minor": 0
}